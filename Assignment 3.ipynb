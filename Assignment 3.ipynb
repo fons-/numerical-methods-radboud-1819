{
 "cells": [
  {
   "cell_type": "markdown",
   "metadata": {},
   "source": [
    "## Fons van der Plas - Numerical Methods Assignment 3 "
   ]
  },
  {
   "cell_type": "markdown",
   "metadata": {},
   "source": [
    "_Note: using Jupyter's 'Run All' skipped some blocks on my system, so please run each code block individually._"
   ]
  },
  {
   "cell_type": "code",
   "execution_count": 2,
   "metadata": {},
   "outputs": [],
   "source": [
    "import numpy as np\n",
    "import matplotlib.pyplot as plt\n",
    "from itertools import permutations\n",
    "\n",
    "%config InlineBackend.figure_format = 'retina'"
   ]
  },
  {
   "cell_type": "markdown",
   "metadata": {},
   "source": [
    "# 1. Polynomial roots\n",
    "\n",
    "**a):** Applying Newton's method"
   ]
  },
  {
   "cell_type": "code",
   "execution_count": 3,
   "metadata": {},
   "outputs": [],
   "source": [
    "def find_root_newton(func, funcderiv, t_zero, tolerance=1e-12, max_iter=100, verbose=True, deriv_tolerance=1e-9):\n",
    "    \"\"\"\n",
    "    Apply Newton's method to the given function.\n",
    "    \n",
    "    Parameters\n",
    "    ----------\n",
    "    \n",
    "    func\n",
    "        Function to apply the algorithm to\n",
    "    \n",
    "    funcderiv\n",
    "        Exact derivative of the function\n",
    "    \n",
    "    t_zero : float\n",
    "        Initial value\n",
    "    \n",
    "    tolerance : float\n",
    "        Tolerance for the absolute value of `func`\n",
    "    \n",
    "    max_iter : int\n",
    "        Maximum number of iterations\n",
    "    \n",
    "    verbose : bool\n",
    "        Print progress at each iteration?\n",
    "    \n",
    "    deriv_tolerance : float\n",
    "        This method will raise a Warning when the absolute value of `funcderiv` is smaller than `deriv_tolerance`, to warn about a possible poor result\n",
    "    \n",
    "    Returns\n",
    "    -------\n",
    "    float\n",
    "        The found root\n",
    "    \n",
    "    bool\n",
    "        A boolean indicating whether the algorithm converged\n",
    "    \"\"\"\n",
    "    iteration = 0\n",
    "    t = t_zero\n",
    "    \n",
    "    # We increase efficiency by only evaluating `funct(t)` once per iteration:\n",
    "    funct = func(t)\n",
    "    \n",
    "    while abs(funct) > tolerance and iteration < max_iter:\n",
    "        # We evaluate the derivative seperately, to check that it is non-zero:\n",
    "        deriv = funcderiv(t)\n",
    "        if abs(deriv) < deriv_tolerance:\n",
    "            if verbose:\n",
    "                print(\"Derivative is close to zero; algorithm terminating...\")\n",
    "            return np.nan, False\n",
    "        if verbose:\n",
    "            print(f\"k={iteration}, t_k={t}, |f(t_k)|={abs(funct)}\")\n",
    "        \n",
    "        t = t - funct/deriv\n",
    "        iteration += 1\n",
    "        \n",
    "        funct = func(t)\n",
    "    return t, iteration!=max_iter"
   ]
  },
  {
   "cell_type": "markdown",
   "metadata": {},
   "source": [
    "--------\n",
    "**b):** We wish to find the three roots of:\n",
    "$$P: t \\mapsto t^3 - 9t^2 + 15t - 1$$\n",
    "which has derivative:\n",
    "$$P': t \\mapsto 3t^2 - 18t + 15.$$\n"
   ]
  },
  {
   "cell_type": "code",
   "execution_count": 4,
   "metadata": {},
   "outputs": [
    {
     "name": "stdout",
     "output_type": "stream",
     "text": [
      "k=0, t_k=0, |f(t_k)|=1\n",
      "k=1, t_k=0.06666666666666667, |f(t_k)|=0.039703703703703686\n",
      "k=2, t_k=0.06954096954096954, |f(t_k)|=7.267848332670468e-05\n",
      "k=3, t_k=0.06954625034427293, |f(t_k)|=2.4516422225673296e-10\n"
     ]
    },
    {
     "data": {
      "text/plain": [
       "(0.06954625036208663, True)"
      ]
     },
     "execution_count": 4,
     "metadata": {},
     "output_type": "execute_result"
    }
   ],
   "source": [
    "P = lambda t: t*t*t - 9*t*t + 15*t - 1\n",
    "Pderiv = lambda t: 3*t*t - 18*t + 15\n",
    "\n",
    "# Example execution:\n",
    "find_root_newton(P, Pderiv, 0)"
   ]
  },
  {
   "cell_type": "markdown",
   "metadata": {},
   "source": [
    "We know that there exist 3 distinct roots. Hoping that all of them lie in the interval [-10,10], we can try different initial values in that interval.\n",
    "\n",
    "The following steps are written as methods, so that we can use them again later."
   ]
  },
  {
   "cell_type": "code",
   "execution_count": 5,
   "metadata": {},
   "outputs": [
    {
     "data": {
      "text/plain": [
       "{0.06954625036201764,\n",
       " 0.06954625036206347,\n",
       " 0.06954625036208029,\n",
       " 0.06954625036208116,\n",
       " 0.06954625036208621,\n",
       " 0.06954625036208624,\n",
       " 0.06954625036208642,\n",
       " 0.06954625036208659,\n",
       " 0.0695462503620866,\n",
       " 0.06954625036208661,\n",
       " 0.06954625036208663,\n",
       " 0.06954625036208664,\n",
       " 2.107403595621632,\n",
       " 2.1074035956216326,\n",
       " 2.107403595621633,\n",
       " 2.107403595621634,\n",
       " 2.107403595621645,\n",
       " 6.823050154016278,\n",
       " 6.823050154016279,\n",
       " 6.82305015401628,\n",
       " 6.823050154016281,\n",
       " 6.823050154016282,\n",
       " 6.823050154016283,\n",
       " 6.823050154016286}"
      ]
     },
     "execution_count": 5,
     "metadata": {},
     "output_type": "execute_result"
    }
   ],
   "source": [
    "def find_many_roots(func, funcderiv, initial_values):\n",
    "    \"\"\"\n",
    "    Apply Newton's method to each initial value in a list, and return the points of convergence.\n",
    "    \"\"\"\n",
    "    found_roots = set()\n",
    "    for t_zero in initial_values:\n",
    "        root, converged = find_root_newton(func, funcderiv, t_zero, verbose=False)\n",
    "        if converged:\n",
    "            found_roots.add(root)\n",
    "    return found_roots\n",
    "\n",
    "initial_values = np.linspace(-10,10,num=50)\n",
    "found_roots = find_many_roots(P, Pderiv, initial_values)\n",
    "found_roots"
   ]
  },
  {
   "cell_type": "markdown",
   "metadata": {},
   "source": [
    "Clearly, we found three distinct roots. We can pick three roots manually, or we can group them by some tolerance:"
   ]
  },
  {
   "cell_type": "code",
   "execution_count": 6,
   "metadata": {},
   "outputs": [
    {
     "name": "stdout",
     "output_type": "stream",
     "text": [
      "[[0.06954625036208661, 0.06954625036208029, 0.06954625036206347, 0.06954625036208663, 0.06954625036208624, 0.06954625036208664, 0.06954625036201764, 0.06954625036208659, 0.06954625036208642, 0.06954625036208621, 0.0695462503620866, 0.06954625036208116], [2.1074035956216326, 2.107403595621633, 2.107403595621634, 2.107403595621645, 2.107403595621632], [6.823050154016281, 6.823050154016283, 6.823050154016279, 6.823050154016278, 6.82305015401628, 6.823050154016282, 6.823050154016286]]\n"
     ]
    }
   ],
   "source": [
    "def group_by_tolerance(values, grouping_tol):\n",
    "    \"\"\"\n",
    "    Split the given list into a low number of groups, \n",
    "    such that the difference between any two numbers within a group is lower than `grouping_tol`.\n",
    "    \"\"\"\n",
    "    groups = list()\n",
    "\n",
    "    for root in values:\n",
    "        found_a_group = False\n",
    "        for group in groups:\n",
    "            # If the root is close to the first element of the group:\n",
    "            # (We divide `grouping_tol` by two because of the triangle inequality)\n",
    "            if abs(root - group[0]) < grouping_tol/2:\n",
    "                # Add it to the group and continue\n",
    "                group.append(root)\n",
    "                found_a_group = True\n",
    "                break\n",
    "        # If no suitable group was found:\n",
    "        if not found_a_group:\n",
    "            # Create a new group\n",
    "            groups.append([root])\n",
    "    return groups\n",
    "\n",
    "grouping_tol = 1e-2\n",
    "groups = group_by_tolerance(found_roots, grouping_tol)\n",
    "print(groups)"
   ]
  },
  {
   "cell_type": "markdown",
   "metadata": {},
   "source": [
    "and take the average:"
   ]
  },
  {
   "cell_type": "code",
   "execution_count": 7,
   "metadata": {},
   "outputs": [
    {
     "name": "stdout",
     "output_type": "stream",
     "text": [
      "omega_0 = 0.06954625036207787\n",
      "omega_1 = 2.1074035956216353\n",
      "omega_2 = 6.823050154016281\n"
     ]
    }
   ],
   "source": [
    "omegas = sorted([np.mean(group) for group in groups])\n",
    "\n",
    "for i,omega in enumerate(omegas):\n",
    "    print(f\"omega_{i} = {omega}\")"
   ]
  },
  {
   "cell_type": "markdown",
   "metadata": {},
   "source": [
    "-------\n",
    "**c):** Finding critical points (max, min) corresponds to finding roots of the the derivative (since $P$ is $C^{\\infty}$).\n",
    "$$P'': t \\mapsto 6t - 18$$"
   ]
  },
  {
   "cell_type": "code",
   "execution_count": 8,
   "metadata": {},
   "outputs": [],
   "source": [
    "Pderivderiv = lambda t: 6*t - 18"
   ]
  },
  {
   "cell_type": "markdown",
   "metadata": {},
   "source": [
    "Let's apply the same methods as before to find three roots of $P'$."
   ]
  },
  {
   "cell_type": "code",
   "execution_count": 9,
   "metadata": {},
   "outputs": [
    {
     "name": "stdout",
     "output_type": "stream",
     "text": [
      "a=0.9999999999999937;\t P(a)=6.000000000000001\n",
      "b=5.000000000000003;\t P(b)=-25.99999999999997\n"
     ]
    }
   ],
   "source": [
    "found_roots = find_many_roots(Pderiv, Pderivderiv, np.linspace(-10,10,num=50))\n",
    "groups = group_by_tolerance(found_roots, 1e-2)\n",
    "unique_roots = [np.mean(group) for group in groups]\n",
    "\n",
    "# We sort the roots by their image of P, to find which one is the max, and which is the min.\n",
    "#(This works for a polynomial of degree 3, but not in general.)\n",
    "unique_roots = sorted(unique_roots, key=P)\n",
    "\n",
    "b,a = unique_roots\n",
    "\n",
    "print(f\"a={a};\\t P(a)={P(a)}\")\n",
    "print(f\"b={b};\\t P(b)={P(b)}\")"
   ]
  },
  {
   "cell_type": "markdown",
   "metadata": {},
   "source": [
    "As expected, we find 2 unique roots ($P'$ is a parabola), corresponding to the local max and min. To find the inflection point, we need to solve $P''(t)=6t-18=0$. We could solve this numerically, but the problem is solved easily analytically:"
   ]
  },
  {
   "cell_type": "code",
   "execution_count": 10,
   "metadata": {},
   "outputs": [
    {
     "name": "stdout",
     "output_type": "stream",
     "text": [
      "c=3.0;\t P(c)=-10.0\n"
     ]
    }
   ],
   "source": [
    "c = 18/6\n",
    "print(f\"c={c};\\t P(c)={P(c)}\")"
   ]
  },
  {
   "cell_type": "code",
   "execution_count": 11,
   "metadata": {},
   "outputs": [
    {
     "data": {
      "text/plain": [
       "<matplotlib.lines.Line2D at 0x179a65c7908>"
      ]
     },
     "execution_count": 11,
     "metadata": {},
     "output_type": "execute_result"
    },
    {
     "data": {
      "image/png": "[encoded data removed]",
      "text/plain": [
       "<Figure size 432x288 with 1 Axes>"
      ]
     },
     "metadata": {
      "image/png": {
       "height": 250,
       "width": 379
      },
      "needs_background": "light"
     },
     "output_type": "display_data"
    }
   ],
   "source": [
    "x = np.linspace(-1,7,num=100)\n",
    "y = P(x)\n",
    "\n",
    "plt.plot(x,y)\n",
    "plt.axhline(0,c=\"black\")"
   ]
  },
  {
   "cell_type": "markdown",
   "metadata": {},
   "source": [
    "----------\n",
    "**d):** I assume $f=P$. We find:\n",
    "$$g: t \\mapsto t - \\frac{f(t)}{f'(t)} = t - \\frac{t^3 - 9t^2 + 15t - 1}{3t^2 - 18t + 15}$$\n",
    "and\n",
    "$$g': t \\mapsto 1 - \\frac{f'(t)^2 - f(t)f''(t)}{f'(t)^2} = \\frac{f(t)f''(t)}{f'(t)^2}$$\n",
    "and\n",
    "$$g'': t \\mapsto \\frac{(f(t)f'''(t)+f'(t)f''(t))f'(t)^2 - f(t)f''(t)(2f'(t)f''(t))}{f'(t)^4}$$"
   ]
  },
  {
   "cell_type": "code",
   "execution_count": 12,
   "metadata": {},
   "outputs": [],
   "source": [
    "g = lambda t: t - P(t)/Pderiv(t)\n",
    "gderiv = lambda t: (P(t)*Pderivderiv(t))/(Pderiv(t)**2)\n",
    "\n",
    "P = P\n",
    "Pd = Pderiv\n",
    "Pdd = Pderivderiv\n",
    "Pddd = lambda t: 6\n",
    "\n",
    "gderivderiv = lambda t: ((P(t)*Pddd(t) + Pd(t)*Pdd(t) )*(Pd(t)**2) - P(t)*Pdd(t)*(2*Pd(t)*Pdd(t)))/(Pd(t)**4)"
   ]
  },
  {
   "cell_type": "markdown",
   "metadata": {},
   "source": [
    "Before we continue, let's plot $g$ and $t \\mapsto t$:"
   ]
  },
  {
   "cell_type": "code",
   "execution_count": 13,
   "metadata": {},
   "outputs": [
    {
     "data": {
      "image/png": "[encoded data removed]",
      "text/plain": [
       "<Figure size 432x288 with 1 Axes>"
      ]
     },
     "metadata": {
      "image/png": {
       "height": 252,
       "width": 372
      },
      "needs_background": "light"
     },
     "output_type": "display_data"
    }
   ],
   "source": [
    "x = np.linspace(-3,10,num=1000)\n",
    "\n",
    "plt.plot(x,g(x),x,x)\n",
    "plt.ylim(-5,10)\n",
    "plt.axhline(0,c=\"black\")\n",
    "plt.axvline(0,c=\"black\")\n",
    "plt.show()"
   ]
  },
  {
   "cell_type": "markdown",
   "metadata": {},
   "source": [
    "**Extreme values** of $g$: find roots of $g'$"
   ]
  },
  {
   "cell_type": "code",
   "execution_count": 14,
   "metadata": {},
   "outputs": [
    {
     "data": {
      "text/plain": [
       "[0.06954625036219757, 2.107403595621629, 3.00000000000028, 6.823050154016205]"
      ]
     },
     "execution_count": 14,
     "metadata": {},
     "output_type": "execute_result"
    }
   ],
   "source": [
    "found_roots = find_many_roots(gderiv, gderivderiv, np.linspace(-2,10,num=50))\n",
    "groups = group_by_tolerance(found_roots, 1e-2)\n",
    "unique_roots = [np.mean(group) for group in groups]\n",
    "\n",
    "unique_roots"
   ]
  },
  {
   "cell_type": "code",
   "execution_count": 15,
   "metadata": {},
   "outputs": [
    {
     "name": "stdout",
     "output_type": "stream",
     "text": [
      "local max at 0.06954625036219757\n",
      "local min at 2.107403595621629\n",
      "local max at 3.00000000000028\n",
      "local min at 6.823050154016205\n"
     ]
    }
   ],
   "source": [
    "def classify_extreme(extreme_val, funcderivderiv, dd_tolerance=1e-3):\n",
    "    funcdd = funcderivderiv(extreme_val)\n",
    "    if abs(funcdd) < dd_tolerance:\n",
    "        return \"saddle\"\n",
    "    return \"local max\" if funcdd < 0 else \"local min\"\n",
    "\n",
    "for root in unique_roots:\n",
    "    print(f\"{classify_extreme(root, gderivderiv)} at {root}\")"
   ]
  },
  {
   "cell_type": "markdown",
   "metadata": {},
   "source": [
    "**Vertical asymptotes**: evaluate `g` at regular intervals, and find large 'jumps' in values:"
   ]
  },
  {
   "cell_type": "code",
   "execution_count": 16,
   "metadata": {},
   "outputs": [
    {
     "name": "stdout",
     "output_type": "stream",
     "text": [
      "Vertical asymptotes found at [1.0, 5.0]\n"
     ]
    }
   ],
   "source": [
    "x = np.linspace(0,6,num=100)\n",
    "jumps = np.diff(g(x))\n",
    "\n",
    "jump_tolerance = 10\n",
    "midpoints = (x[:-1] + x[1:])/2\n",
    "large_jumps_at = midpoints[np.abs(jumps) > jump_tolerance]\n",
    "\n",
    "vertical_asymptotes_at = [np.mean(group) for group in group_by_tolerance(large_jumps_at, 1e0)]\n",
    "print(\"Vertical asymptotes found at\",vertical_asymptotes_at)"
   ]
  },
  {
   "cell_type": "markdown",
   "metadata": {},
   "source": [
    "**Scewed asymptotes**: first derive the slope of such an asymptote by estimating $\\lim_{t\\rightarrow\\infty} \\frac{g(t)}{t}$:"
   ]
  },
  {
   "cell_type": "code",
   "execution_count": 17,
   "metadata": {},
   "outputs": [
    {
     "data": {
      "text/plain": [
       "0.6666666666666666"
      ]
     },
     "execution_count": 17,
     "metadata": {},
     "output_type": "execute_result"
    }
   ],
   "source": [
    "almost_infinity = 1e50\n",
    "\n",
    "slope = g(almost_infinity)/almost_infinity\n",
    "slope"
   ]
  },
  {
   "cell_type": "markdown",
   "metadata": {},
   "source": [
    "Next, find the intersections of the asymptotes with the y-axis, by taking a more modest `infinity`:"
   ]
  },
  {
   "cell_type": "code",
   "execution_count": 18,
   "metadata": {},
   "outputs": [
    {
     "data": {
      "text/plain": [
       "(1.0, 1.0000009536743164)"
      ]
     },
     "execution_count": 18,
     "metadata": {},
     "output_type": "execute_result"
    }
   ],
   "source": [
    "modest_infinity = 1e10\n",
    "rightasymptote_intersection = g( modest_infinity) - slope*modest_infinity\n",
    "leftasymptote_intersection  = g(-modest_infinity) + slope*modest_infinity\n",
    "\n",
    "leftasymptote_intersection, rightasymptote_intersection\n"
   ]
  },
  {
   "cell_type": "markdown",
   "metadata": {},
   "source": [
    "It seems that there is just a single scewed asymptote:\n",
    "$$t \\mapsto \\texttt{rightasymptote_intersection} + \\texttt{slope} \\cdot t$$"
   ]
  },
  {
   "cell_type": "markdown",
   "metadata": {},
   "source": [
    "**Fixed points**: Apply Newton's algorithm to $t \\mapsto g(t) - t$, with derivative $t \\mapsto g'(t) - 1$."
   ]
  },
  {
   "cell_type": "code",
   "execution_count": 19,
   "metadata": {},
   "outputs": [
    {
     "data": {
      "text/plain": [
       "[0.06954625036218892, 2.1074035956216264, 6.82305015401621]"
      ]
     },
     "execution_count": 19,
     "metadata": {},
     "output_type": "execute_result"
    }
   ],
   "source": [
    "found_roots = find_many_roots(lambda t: g(t)-t, lambda t: gderiv(t)-1, np.linspace(-2,10,num=50))\n",
    "groups = group_by_tolerance(found_roots, 1e-2)\n",
    "fixed_points = [np.mean(group) for group in groups]\n",
    "fixed_points"
   ]
  },
  {
   "cell_type": "markdown",
   "metadata": {},
   "source": [
    "----------\n",
    "**e):** From the graph of $P$, we can see that:\n",
    "\n",
    "* $P$ is _concave_ on the interval $I_1$ and _increasing_. For each $k$, there are three possibilities:\n",
    " * $t_k = \\omega_1$: done.\n",
    " * $t_k < \\omega_1$: in this case, $t_k<t_{k+1}$, but it will not _overshoot_ (i.e. $t_{k}<t_{k+1}<\\omega_1$), since $P$ is concave on the interval. The algorithm will move closer to $\\omega_1$.\n",
    " * $t_k > \\omega_1$: in this case, the algorithm will overshoot, and $t_{k+1}$ will land to left of $\\omega_1$ (i.e. $t_{k+1} < \\omega_1 < t_k$). This means that all successive values of $t_k$ will fit in the second possibility, which converges to $\\omega_1$.\n",
    "\n",
    "Similar arguments hold for convergence to $\\omega_3$ on $I_3$."
   ]
  },
  {
   "cell_type": "markdown",
   "metadata": {},
   "source": [
    "-------------\n",
    "**f):** We already know that $\\omega_2$ converges to $\\omega_2$, as it is a root.\n",
    "\n",
    "Let's iteratively expand $I_2=[\\omega_2^-, \\omega_2^+]$ until a different root is found. We will then conclude naively that $I_2=[\\min T_2, \\max T_2]$ is the maximum interval."
   ]
  },
  {
   "cell_type": "code",
   "execution_count": 20,
   "metadata": {},
   "outputs": [
    {
     "name": "stdout",
     "output_type": "stream",
     "text": [
      "I_2 ~= [1.1657035956215005, 4.228503595625097]\n"
     ]
    }
   ],
   "source": [
    "omega2 = omegas[1]\n",
    "\n",
    "omega2left = omega2\n",
    "omega2right = omega2\n",
    "\n",
    "stepsize = 1e-4\n",
    "\n",
    "roottolerance = 1e-2\n",
    "while abs(omega2 - find_root_newton(P, Pderiv, t_zero=omega2left, verbose=False)[0]) < roottolerance:\n",
    "    omega2left -= stepsize\n",
    "while abs(omega2 - find_root_newton(P, Pderiv, t_zero=omega2right, verbose=False)[0]) < roottolerance:\n",
    "    omega2right += stepsize\n",
    "\n",
    "# Note that if there is no convergence, `find_root_newton` either\n",
    "#    returns np.nan (`np.nan < roottolerance` is false), or\n",
    "#    t_100, which is most likely far away from omega_2\n",
    "    \n",
    "print(f\"I_2 ~= [{omega2left}, {omega2right}]\")"
   ]
  },
  {
   "cell_type": "markdown",
   "metadata": {},
   "source": [
    "If $\\omega_2^- < t_k < \\omega_2^+$, then $t_{k+1}$ will remain in that interval, and $\\omega_2^-, \\omega_2^+$ are the smallest and largest (resp.) values for which this is true. This means that:\n",
    "$$g((\\omega_2^-, \\omega_2^+)) = (\\omega_2^-, \\omega_2^+)$$\n",
    "By continuity, we have\n",
    "$$g([\\omega_2^-, \\omega_2^+]) = [\\omega_2^-, \\omega_2^+]$$\n",
    "\n",
    "This means that $g$ will send any of the two elements on the edge of $[\\omega_2^-, \\omega_2^+]$ back to the edge, either by flipping them or by not changing them. (This follows from the _pigeonhole principle_.) From the graph of $g$ we can see that $\\omega_2^-, \\omega_2^+$ are not fixed points, which leaves only one possibility:\n",
    "$$g(\\omega_2^-) = \\omega_2^+$$\n",
    "$$g(\\omega_2^+) = \\omega_2^-$$\n",
    "\n",
    "This means that with initial value $t_0 \\in \\{\\omega_2^-, \\omega_2^+\\}$, Newton's method will oscillate between the two values. Sketch:\n",
    "\n",
    "```\n",
    "\n",
    " ⬐-----⮢ \n",
    "ω2-     ω2+\n",
    " ⮡ -----⬏ \n",
    "```"
   ]
  },
  {
   "cell_type": "markdown",
   "metadata": {},
   "source": [
    "Let's plot $P$ and $g$ together the three areas $I_1,I_2$ and $I_3$."
   ]
  },
  {
   "cell_type": "code",
   "execution_count": 21,
   "metadata": {},
   "outputs": [
    {
     "data": {
      "image/png": "[encoded data removed]",
      "text/plain": [
       "<Figure size 432x288 with 1 Axes>"
      ]
     },
     "metadata": {
      "image/png": {
       "height": 252,
       "width": 379
      },
      "needs_background": "light"
     },
     "output_type": "display_data"
    }
   ],
   "source": [
    "x = np.linspace(0,7,num=100)\n",
    "y = P(x)\n",
    "\n",
    "\n",
    "plt.plot(x,y,x,g(x))\n",
    "plt.axhline(0,c=\"black\")\n",
    "\n",
    "# I1\n",
    "plt.fill_between(x,99*(x < a),-99*(x < a),color=\"red\",alpha=.1)\n",
    "plt.axvline(a,c=\"red\")\n",
    "\n",
    "# I2\n",
    "plt.fill_between(x,99*(x < omega2right)*(x > omega2left),-99*(x < omega2right)*(x > omega2left),color=\"green\",alpha=.1)\n",
    "plt.axvline(omega2left,c=\"green\")\n",
    "plt.axvline(omega2right,c=\"green\")\n",
    "\n",
    "# I3\n",
    "plt.fill_between(x,99*(x > b),-99*(x > b),color=\"blue\",alpha=.1)\n",
    "plt.axvline(b,c=\"blue\")\n",
    "\n",
    "plt.ylim(-30,10)\n",
    "plt.show()"
   ]
  },
  {
   "cell_type": "markdown",
   "metadata": {},
   "source": [
    "---------\n",
    "**g):** \n",
    "\n",
    "$$g: t \\mapsto t - \\frac{f(t)}{f'(t)}$$\n",
    "\n",
    "Since $g$ is continuously differentiable and $g'$ has no roots on $L$, $g$ is strictly monotone. (If not, $g'$ would have a root on $L$ by the intermediate value theorem.) The same argument holds with $R$.\n",
    "\n",
    "$g$ is continuous and $L$ is an interval, so $g(L)$ must be an interval.\n",
    "\n",
    "$P$ is bounded on $\\overline{L}$.\n",
    "$P'$ is negative on $L$ and $\\lim_{x \\rightarrow a+} P'(x) = 0$.\n",
    "Therefore, looking at the definition of $g$, we find:\n",
    "\n",
    "$\\lim_{x \\rightarrow a+} g(x) = \\infty$.\n",
    "\n",
    "For a lower limit of $g(L)$, notice that $g$ is strictly decreasing, so:\n",
    "$$\\inf g(L) = \\lim_{x \\rightarrow \\omega_2^- -} g(x) = g(\\omega_2^-) = \\omega_2^+$$\n",
    "since $\\omega_2^-$ is a fixed point of $g$.\n",
    "\n",
    "Therefore,\n",
    "\n",
    "$$g(L) = (\\omega_2^+, \\infty).$$\n",
    "\n",
    "(The interval is open since $g$ is continuous and strictly monotone/)\n",
    "\n",
    "Similarly, one finds:\n",
    "\n",
    "$$g(R) = (-\\infty, \\omega_2^-).$$"
   ]
  },
  {
   "cell_type": "markdown",
   "metadata": {},
   "source": [
    "------------------\n",
    "**h):** Suppose $t_0 = a_k$ for some $k \\geq 0$. Then\n",
    "$$t_1 = g(t_0) = g(a_k) = b_{k-1}$$\n",
    "$$t_2 = g(t_1) = g(b_{k-1}) = a_{k-2}$$\n",
    "\n",
    "until eventually:\n",
    "\n",
    "(if $k$ is even:)\n",
    "$$t_{k-1} = b_1 = b$$\n",
    "$$t_k = g(t_{k-1}) = g(b)$$\n",
    "(if $k$ is odd:)\n",
    "$$t_{k-1} = a_1 = a$$\n",
    "$$t_k = g(t_{k-1}) = g(a)$$\n",
    "which is not defined: Newton's methods will terminate.\n",
    "\n",
    "Swap 'a' and 'b' in the above discussion to find that $t_0=b_k$ does not terminate for any $k \\geq 0$."
   ]
  },
  {
   "cell_type": "markdown",
   "metadata": {},
   "source": [
    "-------------\n",
    "**i):** Suppose $y \\in \\mathbb{R}$. Then for each $x \\in \\mathbb{R}$:\n",
    "\n",
    "$$y=g(x)=x-\\frac{P(x)}{P'(x)}\\text{ iff}$$\n",
    "$$0 = P(x) + (y - x) P'(x).$$\n",
    "\n",
    "Since $\\deg P = 3$, $\\deg P' = 2$ and $\\deg (x \\mapsto y - x) = 1$, we find that\n",
    "$$Q: x \\mapsto P(x) + (y - x) P'(x).$$\n",
    "is a third-degree polynomial and $g(x)=y$ is equivalent to $Q(x)=0$."
   ]
  },
  {
   "cell_type": "markdown",
   "metadata": {},
   "source": [
    "$g(a_2)=b_1$ so $a_2$ is a root of $x \\mapsto P(x) + (b_1 - x) P'(x)$.\n",
    "\n",
    "$g(b_2)=a_1$ so $b_2$ is a root of $x \\mapsto P(x) + (a_1 - x) P'(x)$.\n",
    "\n",
    "$g(a_3)=b_2$ so $a_3$ is a root of $x \\mapsto P(x) + (b_2 - x) P'(x)$.\n",
    "\n",
    "$g(b_3)=a_2$ so $b_3$ is a root of $x \\mapsto P(x) + (a_2 - x) P'(x)$."
   ]
  },
  {
   "cell_type": "markdown",
   "metadata": {},
   "source": [
    "For each $y \\in \\mathbb{R}$, the function \n",
    "\n",
    "$$Q: x \\mapsto P(x) + (y - x) P'(x)$$\n",
    "\n",
    "has derivative:\n",
    "\n",
    "$$Q': x \\mapsto P'(x) - P'(x) + (y-x)P''(x) = (y-x)P''(x).$$"
   ]
  },
  {
   "cell_type": "code",
   "execution_count": 22,
   "metadata": {},
   "outputs": [
    {
     "name": "stdout",
     "output_type": "stream",
     "text": [
      "a: 0.9999999999999937 1.1313780923215186 1.162952031832259\n",
      "b: 5.000000000000003 4.279018786166596 4.239595022330189\n"
     ]
    }
   ],
   "source": [
    "def find_Qy_root(y):\n",
    "    Q  = lambda x: P(x) + (y-x)*Pd(x)\n",
    "    Qd = lambda x: (y-x)*Pdd(x)\n",
    "    root, converged = find_root_newton(Q, Qd, 0, verbose=False)\n",
    "    if not converged:\n",
    "        print(\"panic!\")\n",
    "    return root\n",
    "\n",
    "a1=a\n",
    "b1=b\n",
    "a2 = find_Qy_root(b1)\n",
    "b2 = find_Qy_root(a1)\n",
    "a3 = find_Qy_root(b2)\n",
    "b3 = find_Qy_root(a2)\n",
    "\n",
    "print(\"a:\",a1,a2,a3)\n",
    "print(\"b:\",b1,b2,b3)"
   ]
  },
  {
   "cell_type": "markdown",
   "metadata": {},
   "source": [
    "------------------\n",
    "**j):** To visualize the behaviour of $g$, the following plot might be useful"
   ]
  },
  {
   "cell_type": "code",
   "execution_count": 23,
   "metadata": {},
   "outputs": [
    {
     "data": {
      "image/png": "[encoded data removed]",
      "text/plain": [
       "<Figure size 864x360 with 2 Axes>"
      ]
     },
     "metadata": {
      "image/png": {
       "height": 318,
       "width": 708
      },
      "needs_background": "light"
     },
     "output_type": "display_data"
    }
   ],
   "source": [
    "# Code to generate two plots, not required by the exercise.\n",
    "\n",
    "x = np.linspace(0,7,num=1000)\n",
    "\n",
    "fig,axes=plt.subplots(1,2)\n",
    "\n",
    "fig.set_size_inches(12,5)\n",
    "for i, prop in enumerate([{'xlim': [.9,1.3], 'ylim': [2,6], 'title': \"around $L$\"},{'xlim': [4,5.5], 'ylim': [0,2], 'title':\"around $R$\"}]):\n",
    "    ax = axes[i]\n",
    "    \n",
    "    ax.plot(x,g(x),label=\"g\",color=\"orange\")\n",
    "    ax.axhline(0,c=\"black\")\n",
    "\n",
    "    # I1\n",
    "    ax.fill_between(x,99*(x < a),-99*(x < a),color=\"red\",alpha=.1,label=\"$I_1$\")\n",
    "    ax.axvline(a,c=\"red\")\n",
    "\n",
    "    # I2\n",
    "    ax.fill_between(x,99*(x < omega2right)*(x > omega2left),-99*(x < omega2right)*(x > omega2left),color=\"green\",alpha=.1,label=\"$I_2$\")\n",
    "    ax.axvline(omega2left,c=\"green\")\n",
    "    ax.axvline(omega2right,c=\"green\")\n",
    "\n",
    "    # I3\n",
    "    ax.fill_between(x,99*(x > b),-99*(x > b),color=\"blue\",alpha=.1,label=\"$I_3$\")\n",
    "    ax.axvline(b,c=\"blue\")\n",
    "\n",
    "    # L\n",
    "    ax.axhline(a,color=\"yellow\")\n",
    "    ax.axhline(omega2left,color=\"yellow\")\n",
    "    ax.fill_between(x,a,omega2left,color=\"yellow\",alpha=.1,label=\"$L$ flipped\")\n",
    "\n",
    "    # R\n",
    "    ax.axhline(b,color=\"purple\")\n",
    "    ax.axhline(omega2right,color=\"purple\")\n",
    "    ax.fill_between(x,omega2right,b,color=\"purple\",alpha=.1,label=\"$R$ flipped\")\n",
    "\n",
    "\n",
    "\n",
    "    ax.legend()\n",
    "\n",
    "    ax.set_xlim(prop[\"xlim\"])\n",
    "    ax.set_ylim(prop[\"ylim\"])\n",
    "    \n",
    "    ax.set_title(prop[\"title\"])\n",
    "plt.show()"
   ]
  },
  {
   "cell_type": "markdown",
   "metadata": {},
   "source": [
    "The previous plot contains two zoomed-in sections of $g$ (around $L$ and $R$). The areas $L$ and $R$ are shown horizontally. We see that a small portion of $L$ is mapped to the entire set $R$, and vice versa. "
   ]
  },
  {
   "cell_type": "markdown",
   "metadata": {},
   "source": [
    "Since $g$ is continuous and strictly monotone, we find that for each $j > 1$:\n",
    "\n",
    "$$g(L_j) = g((a_j, a_{j+1})) = (g(a_j), g(a_{j+1})) = (b_{j-1}, b_j) = R_{j-1}$$\n",
    "$$g(R_j) = g((b_j, b_{j+1})) = (g(b_j), g(b_{j+1})) = (a_{j-1}, a_j) = L_{j-1}$$\n",
    "\n",
    "For $j=1$ we need to be more careful (as $g(a_1)$ is undefined), but the same idea applies:\n",
    "\n",
    "$$g(L_1) = g((a_1, a_2)) = \\lim_{x \\rightarrow a_1 +} g((x, a_2)) = \\lim_{x \\rightarrow a_1 +} (g(x), g(a_2)) = (\\infty,b_1) = (b,\\infty)=I_3$$\n",
    "\n",
    "since $g((x, a_2)) = (g(x), g(a_2))$ for each $a_1 < x < \\omega_2^-$. Similarly,\n",
    "\n",
    "$$g(R_1) = g((b_1, b_2)) = \\lim_{x \\rightarrow b_1 -} g((x, b_2)) = \\lim_{x \\rightarrow b_1 -} (g(x), g(b_2)) = (-\\infty,a_1) = (-\\infty,a)=I_1.$$"
   ]
  },
  {
   "cell_type": "markdown",
   "metadata": {},
   "source": [
    "-------------\n",
    "**k):** From the previous excercise, it follows that if $t_0 \\in L_1$, then $\\lim_{n\\rightarrow \\infty} g^{n}(t_0) = \\omega_3$ ($g^n$ is '$g$ applied $n$ times') and if $t_0 \\in R_1$, then $\\lim_{n\\rightarrow \\infty} g^{n}(t_0) = \\omega_1$.\n",
    "\n",
    "We also see that if $n$ is even:\n",
    "\n",
    "$$g^m(L_n)=g^{m-1}(R_{n-1})=\\dots=g^{m-n}(I_1)$$\n",
    "$$g^m(R_n)=g^{m-1}(L_{n-1})=\\dots=g^{m-n}(I_3)$$\n",
    "\n",
    "if $n$ is odd:\n",
    "\n",
    "$$g^m(L_n)=g^{m-1}(R_{n-1})=\\dots=g^{m-n}(I_3)$$\n",
    "$$g^m(R_n)=g^{m-1}(L_{n-1})=\\dots=g^{m-n}(I_1)$$\n",
    "\n",
    "for any $m>n$.\n",
    "\n",
    "Therefore:\n",
    "\n",
    "$\\mathcal{D}(\\omega_1) = I_1 \\cup \\{L_n \\, \\mid \\, n\\text{ is even} \\} \\cup \\{R_n \\, \\mid \\, n\\text{ is odd} \\}$\n",
    "\n",
    "$\\mathcal{D}(\\omega_2) = I_2$\n",
    "\n",
    "$\\mathcal{D}(\\omega_3) = I_3 \\cup \\{L_n \\, \\mid \\, n\\text{ is odd} \\} \\cup \\{R_n \\, \\mid \\, n\\text{ is even} \\}$\n",
    "\n",
    "which leaves the points $\\{a_j \\, \\mid \\, j \\geq 1\\} \\cup \\{b_j \\, \\mid \\, j \\geq 1\\}$, on which Newton's method terminates before converging."
   ]
  },
  {
   "cell_type": "markdown",
   "metadata": {},
   "source": [
    "----------------\n",
    "----------------\n",
    "# 2. Dimensions of a cuboid"
   ]
  },
  {
   "cell_type": "markdown",
   "metadata": {},
   "source": [
    "**a):** We need to solve $F(u)=0$, where $F$ is defined as:\n",
    "\n",
    "$F: \\mathbb{R}^3 \\rightarrow \\mathbb{R}^3$\n",
    "\n",
    "$F: (x,y,z)^T \\mapsto (xyz, \\quad xy + xz + yz, \\quad x+y+z)^T - (V, A/2, L/4)^T$\n",
    "\n",
    "and $F': \\mathbb{R}^3 \\rightarrow \\mathbb{R}^3$ is the Jacobian.\n",
    "\n",
    "\n",
    "At each step $k$ of Newton's method, the linear equation $F'(u_k)v_k = -F(u_k)$ needs to be solved. (Which is linear because $F'(u_k)$ is the Jacobian _matrix_.) The solution $v_k$ is then used to compute $u_{k+1} = u_k + v_k$.\n",
    "\n",
    "Newton's method terminates at the first step if the previous linear system (with $k=0$) has no solution. If there is no solution, then $\\det F'(u_0) = 0$. (The converse is not true in general (I think).)"
   ]
  },
  {
   "cell_type": "markdown",
   "metadata": {},
   "source": [
    "--------------\n",
    "**b):** "
   ]
  },
  {
   "cell_type": "code",
   "execution_count": 24,
   "metadata": {},
   "outputs": [],
   "source": [
    "def find_root_newton_multidim(Func, Funcderiv, u_zero, tolerance=1e-12, max_iter=100, verbose=True):\n",
    "    \"\"\"\n",
    "    Apply Newton's method to the given multidimensional function.\n",
    "    \n",
    "    Parameters\n",
    "    ----------\n",
    "    \n",
    "    Func\n",
    "        Function to apply the algorithm to\n",
    "    \n",
    "    Funcderiv\n",
    "        Exact Jacobian of the function\n",
    "    \n",
    "    t_zero : array_like\n",
    "        Initial value\n",
    "    \n",
    "    tolerance : float\n",
    "        Tolerance for the absolute value of `func`\n",
    "    \n",
    "    max_iter : int\n",
    "        Maximum number of iterations\n",
    "    \n",
    "    verbose : bool\n",
    "        Print progress at each iteration?\n",
    "    \n",
    "    Returns\n",
    "    -------\n",
    "    array_like\n",
    "        The found root\n",
    "    \n",
    "    bool\n",
    "        A boolean indicating whether the algorithm converged\n",
    "    \"\"\"\n",
    "    iteration = 0\n",
    "    u = u_zero\n",
    "    \n",
    "    # We increase efficiency by only evaluating `F(u)` once per iteration:\n",
    "    Funcu = Func(u)\n",
    "    \n",
    "    norm_squared = lambda v: v.dot(v.T)\n",
    "    \n",
    "    while norm_squared(Funcu) > tolerance*tolerance and iteration < max_iter:\n",
    "        # Print progress:\n",
    "        if verbose:\n",
    "            print(f\"k={iteration}, u_k={u},\\t ||Func(u_k)||_2={np.sqrt(norm_squared(Funcu))}\")\n",
    "        \n",
    "        # Compute v_k:\n",
    "        try:\n",
    "            v = np.linalg.solve(Funcderiv(u),-Funcu)\n",
    "        except np.linalg.LinAlgError as err:\n",
    "            if verbose:\n",
    "                print(\"Jacobian is singular; algorithm terminating...\")\n",
    "            return np.nan, False\n",
    "        \n",
    "        u = u + v\n",
    "        iteration += 1\n",
    "        Funcu = Func(u)\n",
    "    \n",
    "    return u, iteration!=max_iter"
   ]
  },
  {
   "cell_type": "markdown",
   "metadata": {},
   "source": [
    "------------\n",
    "**c):**"
   ]
  },
  {
   "cell_type": "code",
   "execution_count": 25,
   "metadata": {
    "scrolled": true
   },
   "outputs": [
    {
     "name": "stdout",
     "output_type": "stream",
     "text": [
      "initial value: [0 0 1]\n",
      "--------------------\n",
      "k=0, u_k=[0 0 1],\t ||Func(u_k)||_2=17.029386365926403\n",
      "Jacobian is singular; algorithm terminating...\n",
      "Converged: False, root: nan\n",
      "====================\n",
      "\n",
      "\n",
      "initial value: [5 5 5]\n",
      "--------------------\n",
      "k=0, u_k=[5 5 5],\t ||Func(u_k)||_2=137.88400922514546\n",
      "Jacobian is singular; algorithm terminating...\n",
      "Converged: False, root: nan\n",
      "====================\n",
      "\n",
      "\n",
      "initial value: [1 2 3]\n",
      "--------------------\n",
      "k=0, u_k=[1 2 3],\t ||Func(u_k)||_2=7.0710678118654755\n",
      "k=1, u_k=[-2.  3.  8.],\t ||Func(u_k)||_2=50.69516742254627\n",
      "k=2, u_k=[-0.5  2.6  6.9],\t ||Func(u_k)||_2=10.132966002114076\n",
      "k=3, u_k=[-0.02593723  2.20510128  6.82083595],\t ||Func(u_k)||_2=1.4035114622392373\n",
      "k=4, u_k=[0.06539453 2.11153998 6.82306549],\t ||Func(u_k)||_2=0.05847790413720175\n",
      "k=5, u_k=[0.06953785 2.107412   6.82305015],\t ||Func(u_k)||_2=0.0001180734666987662\n",
      "k=6, u_k=[0.06954625 2.1074036  6.82305015],\t ||Func(u_k)||_2=4.870055144576335e-10\n",
      "Converged: True, root: [0.06954625 2.1074036  6.82305015]\n",
      "====================\n",
      "\n",
      "\n",
      "initial value: [1.e+00 1.e+10 1.e+20]\n",
      "--------------------\n",
      "k=0, u_k=[1.e+00 1.e+10 1.e+20],\t ||Func(u_k)||_2=1.4142135624438057e+30\n",
      "k=1, u_k=[ 1.00000000e+00  1.00000000e+10 -1.00000072e+10],\t ||Func(u_k)||_2=1.414214576222798e+20\n",
      "k=2, u_k=[ 1.00000000e+00  5.00000180e+09 -5.00000179e+09],\t ||Func(u_k)||_2=3.535536440556539e+19\n",
      "k=3, u_k=[ 1.00000000e+00  2.50000090e+09 -2.50000089e+09],\t ||Func(u_k)||_2=8.838841101391348e+18\n",
      "k=4, u_k=[ 1.00000000e+00  1.25000045e+09 -1.25000044e+09],\t ||Func(u_k)||_2=2.2097102753478374e+18\n",
      "k=5, u_k=[ 1.00000000e+00  6.25000228e+08 -6.25000220e+08],\t ||Func(u_k)||_2=5.524275688369594e+17\n",
      "k=6, u_k=[ 1.00000000e+00  3.12500116e+08 -3.12500108e+08],\t ||Func(u_k)||_2=1.3810689220923989e+17\n",
      "k=7, u_k=[ 1.00000000e+00  1.56250060e+08 -1.56250052e+08],\t ||Func(u_k)||_2=3.452672305230996e+16\n",
      "k=8, u_k=[ 1.0000000e+00  7.8125032e+07 -7.8125024e+07],\t ||Func(u_k)||_2=8631680763077485.0\n",
      "k=9, u_k=[ 1.0000000e+00  3.9062518e+07 -3.9062510e+07],\t ||Func(u_k)||_2=2157920190769366.5\n",
      "k=10, u_k=[ 1.0000000e+00  1.9531261e+07 -1.9531253e+07],\t ||Func(u_k)||_2=539480047692336.3\n",
      "k=11, u_k=[ 1.0000000e+00  9.7656325e+06 -9.7656245e+06],\t ||Func(u_k)||_2=134870011923078.8\n",
      "k=12, u_k=[ 1.00000000e+00  4.88281825e+06 -4.88281025e+06],\t ||Func(u_k)||_2=33717502980764.402\n",
      "k=13, u_k=[ 1.00000000e+00  2.44141113e+06 -2.44140313e+06],\t ||Func(u_k)||_2=8429375745185.795\n",
      "k=14, u_k=[ 1.00000000e+00  1.22070756e+06 -1.22069956e+06],\t ||Func(u_k)||_2=2107343936291.1453\n",
      "k=15, u_k=[ 1.00000000e+00  6.10355781e+05 -6.10347781e+05],\t ||Func(u_k)||_2=526835984067.48315\n",
      "k=16, u_k=[ 1.00000000e+00  3.05179891e+05 -3.05171891e+05],\t ||Func(u_k)||_2=131708996011.56749\n",
      "k=17, u_k=[ 1.00000000e+00  1.52591945e+05 -1.52583945e+05],\t ||Func(u_k)||_2=32927248997.588573\n",
      "k=18, u_k=[ 1.00000000e+00  7.62979727e+04 -7.62899727e+04],\t ||Func(u_k)||_2=8231812244.093842\n",
      "k=19, u_k=[ 1.00000000e+00  3.81509864e+04 -3.81429864e+04],\t ||Func(u_k)||_2=2057953055.7201598\n",
      "k=20, u_k=[ 1.00000001e+00  1.90774933e+04 -1.90694933e+04],\t ||Func(u_k)||_2=514488258.626739\n",
      "k=21, u_k=[ 1.00000002e+00  9.54074690e+03 -9.53274690e+03],\t ||Func(u_k)||_2=128622059.35338396\n",
      "k=22, u_k=[ 1.00000009e+00  4.77237392e+03 -4.76437392e+03],\t ||Func(u_k)||_2=32155509.535045255\n",
      "k=23, u_k=[ 1.00000035e+00  2.38818790e+03 -2.38018790e+03],\t ||Func(u_k)||_2=8038872.080460968\n",
      "k=24, u_k=[ 1.00000141e+00  1.19609584e+03 -1.18809584e+03],\t ||Func(u_k)||_2=2009712.716816436\n",
      "k=25, u_k=[   1.00000563  600.05169175 -592.05169738],\t ||Func(u_k)||_2=502422.8759114605\n",
      "k=26, u_k=[   1.00002252  302.03338576 -294.03340828],\t ||Func(u_k)||_2=125600.41570985131\n",
      "k=27, u_k=[   1.00009007  153.03175291 -145.03184298],\t ||Func(u_k)||_2=31394.800758039728\n",
      "k=28, u_k=[  1.00036033  78.54591733 -70.54627766],\t ||Func(u_k)||_2=7843.397415285094\n",
      "k=29, u_k=[  1.00144177  41.3327222  -33.33416397],\t ||Func(u_k)||_2=1955.548173779816\n",
      "k=30, u_k=[  1.00577452  22.78460151 -14.79037603],\t ||Func(u_k)||_2=483.5924561074983\n",
      "k=31, u_k=[ 1.02321471 13.62350692 -5.64672162],\t ||Func(u_k)||_2=115.63346559317887\n",
      "k=32, u_k=[ 1.09456828  9.25188721 -1.34645549],\t ||Func(u_k)||_2=23.82836817432012\n",
      "k=33, u_k=[1.39323864 7.40883669 0.19792466],\t ||Func(u_k)||_2=3.1153678538037135\n",
      "k=34, u_k=[2.1070929  6.88340322 0.00950389],\t ||Func(u_k)||_2=0.954930934903765\n",
      "k=35, u_k=[2.10739089 6.82358122 0.06902789],\t ||Func(u_k)||_2=0.008196134376029979\n",
      "k=36, u_k=[2.10740359 6.8230502  0.06954621],\t ||Func(u_k)||_2=6.022411989358512e-07\n",
      "Converged: True, root: [2.1074036  6.82305015 0.06954625]\n",
      "====================\n",
      "\n",
      "\n",
      "initial value: [-1  2 -3]\n",
      "--------------------\n",
      "k=0, u_k=[-1  2 -3],\t ||Func(u_k)||_2=23.366642891095847\n",
      "k=1, u_k=[-5.33333333  1.93333333 12.4       ],\t ||Func(u_k)||_2=145.45335241373797\n",
      "k=2, u_k=[-1.54088202  1.95419077  8.58669125],\t ||Func(u_k)||_2=30.50251392950986\n",
      "k=3, u_k=[-0.15259552  2.01483902  7.1377565 ],\t ||Func(u_k)||_2=3.777060799103654\n",
      "k=4, u_k=[0.06903442 2.09281305 6.83815254],\t ||Func(u_k)||_2=0.07347602041686079\n",
      "k=5, u_k=[0.06954879 2.10735348 6.82309773],\t ||Func(u_k)||_2=0.0002200528086759738\n",
      "k=6, u_k=[0.06954625 2.1074036  6.82305015],\t ||Func(u_k)||_2=2.5144424030259845e-09\n",
      "Converged: True, root: [0.06954625 2.1074036  6.82305015]\n",
      "====================\n",
      "\n",
      "\n"
     ]
    }
   ],
   "source": [
    "def F(u,V,A,L):\n",
    "    x,y,z=u\n",
    "    return np.array([x*y*z,   x*y + x*z + y*z,   x+y+z]) - np.array([V, A/2, L/4])\n",
    "\n",
    "\n",
    "def Fd(u,V,A,L):\n",
    "    x,y,z=u\n",
    "    return np.array([[y*z, x*z, x*y],\n",
    "                     [y+z, x+z, x+y],\n",
    "                     [1,   1,   1]])\n",
    "\n",
    "V = 1\n",
    "A = 30\n",
    "L = 36\n",
    "\n",
    "for initial_value in [np.array([0,0,1]),\n",
    "                      np.array([5,5,5]),\n",
    "                      np.array([1,2,3]),\n",
    "                      np.array([1,1e10,1e20]),\n",
    "                      np.array([-1,2,-3])]:\n",
    "    print(f\"initial value: {initial_value}\")\n",
    "    print(\"-\"*20)\n",
    "    root, converged = find_root_newton_multidim(Func=lambda u: F(u, V, A, L),\n",
    "                                                Funcderiv=lambda u: Fd(u, V, A, L),\n",
    "                                                u_zero=initial_value)\n",
    "    print(f\"Converged: {converged}, root: {root}\")\n",
    "    print(\"=\"*20)\n",
    "    print()\n",
    "    print()"
   ]
  },
  {
   "cell_type": "markdown",
   "metadata": {},
   "source": [
    "We can identify a number of patterns. Let's call our initial value $(x,y,z)$.\n",
    "\n",
    "* If at least two of $x,y,z$ are zero, then the first row of the jacobian is $(0,0,0)$, and the matrix is singular (i.e. no convergence).\n",
    " * The set of initial values where the algorithm does not converge, is _not_ a linear subspace of $\\mathbb{R}^3$. (Otherwise the algorithm would converge nowhere, as each element of the standard basis of $\\mathbb{R}^3$ has two zero entries.)\n",
    "* If $x=y=z$, then the second row of the jacobian is $(2x,2x,2x)$, a multiple of the third row, making it singular.\n",
    "\n",
    "It seems like there are 6 unique roots, one per permutation of x,y,z coordinates:"
   ]
  },
  {
   "cell_type": "code",
   "execution_count": 26,
   "metadata": {},
   "outputs": [
    {
     "name": "stdout",
     "output_type": "stream",
     "text": [
      "initial value: [1 2 3]\n",
      "--------------------\n",
      "Converged: True, root: [0.06954625 2.1074036  6.82305015]\n",
      "====================\n",
      "\n",
      "\n",
      "initial value: [1 3 2]\n",
      "--------------------\n",
      "Converged: True, root: [0.06954625 6.82305015 2.1074036 ]\n",
      "====================\n",
      "\n",
      "\n",
      "initial value: [2 1 3]\n",
      "--------------------\n",
      "Converged: True, root: [2.1074036  0.06954625 6.82305015]\n",
      "====================\n",
      "\n",
      "\n",
      "initial value: [2 3 1]\n",
      "--------------------\n",
      "Converged: True, root: [2.1074036  6.82305015 0.06954625]\n",
      "====================\n",
      "\n",
      "\n",
      "initial value: [3 1 2]\n",
      "--------------------\n",
      "Converged: True, root: [6.82305015 0.06954625 2.1074036 ]\n",
      "====================\n",
      "\n",
      "\n",
      "initial value: [3 2 1]\n",
      "--------------------\n",
      "Converged: True, root: [6.82305015 2.1074036  0.06954625]\n",
      "====================\n",
      "\n",
      "\n"
     ]
    }
   ],
   "source": [
    "for perm in permutations([1,2,3]):\n",
    "    initial_value = np.array(perm)\n",
    "    print(f\"initial value: {initial_value}\")\n",
    "    print(\"-\"*20)\n",
    "    root, converged = find_root_newton_multidim(Func=lambda u: F(u, V, A, L),\n",
    "                                                Funcderiv=lambda u: Fd(u, V, A, L),\n",
    "                                                u_zero=initial_value,\n",
    "                                                verbose=False)\n",
    "    print(f\"Converged: {converged}, root: {root}\")\n",
    "    print(\"=\"*20)\n",
    "    print()\n",
    "    print()"
   ]
  },
  {
   "cell_type": "markdown",
   "metadata": {},
   "source": [
    "Let's pick one, and compare the results with the previous algorithm:"
   ]
  },
  {
   "cell_type": "code",
   "execution_count": 27,
   "metadata": {},
   "outputs": [],
   "source": [
    "#%%timeit # Uncomment to measure performance\n",
    "initial_value = np.array([1,2,3])\n",
    "root, converged = find_root_newton_multidim(Func=lambda u: F(u, V, A, L),\n",
    "                                            Funcderiv=lambda u: Fd(u, V, A, L),\n",
    "                                            u_zero=initial_value,\n",
    "                                            verbose=False)\n",
    "roots_multidim_method = sorted(list(root))"
   ]
  },
  {
   "cell_type": "code",
   "execution_count": 28,
   "metadata": {},
   "outputs": [],
   "source": [
    "#%%timeit # Uncomment to measure performance\n",
    "initial_values = [0,2,6]\n",
    "#initial_values = np.linspace(0,L/4,num=10)\n",
    "roots = find_many_roots(P, Pd, initial_values=initial_values)\n",
    "roots_old_method = sorted(list(roots))"
   ]
  },
  {
   "cell_type": "code",
   "execution_count": 29,
   "metadata": {},
   "outputs": [
    {
     "name": "stdout",
     "output_type": "stream",
     "text": [
      "New method:  [0.06954625036208663, 2.1074035956216335, 6.823050154016279]\n",
      "Old method:  [0.06954625036208663, 2.107403595621634, 6.82305015401628]\n"
     ]
    }
   ],
   "source": [
    "print(\"New method: \", roots_multidim_method)\n",
    "print(\"Old method: \", roots_old_method)"
   ]
  },
  {
   "cell_type": "markdown",
   "metadata": {},
   "source": [
    "The results are very similar, as expected. Using IPython's `%%timeit`, we can measure the performance of both methods. This is not a fair comparison, however, as the performance of both methods depend on the choice of initial values. However:\n",
    "\n",
    "* The old method is about **10x faster** when 3 initial values are chosen close to the analytic roots.\n",
    "* Results are **similar** when the old method is used with 10 evenly spaced initial values between $0$ and $L/4$ (theoretical upper bound)."
   ]
  },
  {
   "cell_type": "markdown",
   "metadata": {},
   "source": [
    "-----------------\n",
    "-----------------\n",
    "# 3. A strengthened cuboid"
   ]
  },
  {
   "cell_type": "markdown",
   "metadata": {},
   "source": [
    "**a):** The same algorithm can be applied to this problem, using:"
   ]
  },
  {
   "cell_type": "code",
   "execution_count": 31,
   "metadata": {},
   "outputs": [],
   "source": [
    "def H(u,V,A,L):\n",
    "    x,y,z=u\n",
    "    return np.array([x*y*z,   \n",
    "                     x*y + x*z + y*z,   \n",
    "                     x+y+z + np.sqrt(x*x + y*y) + np.sqrt(x*x + z*z) + np.sqrt(z*z + y*y)]) - np.array([V, A/2, L/4])\n",
    "\n",
    "\n",
    "def Hd(u,V,A,L):\n",
    "    x,y,z=u\n",
    "    return np.array([[y*z, x*z, x*y],\n",
    "                     [y+z, x+z, x+y],\n",
    "                     [1 + x/np.sqrt(x*x + y*y) + x/np.sqrt(x*x + z*z),\n",
    "                      1 + y/np.sqrt(x*x + y*y) + y/np.sqrt(y*y + z*z),\n",
    "                      1 + z/np.sqrt(z*z + y*y) + z/np.sqrt(x*x + z*z)]])"
   ]
  },
  {
   "cell_type": "markdown",
   "metadata": {},
   "source": [
    "Note that for each $w \\in \\mathbb{R}$, the derivative of $t \\mapsto \\sqrt{t^2 + w^2}$ is:\n",
    "\n",
    "$$t \\mapsto \\frac{2t}{2\\sqrt{t^2 + w^2}} = \\frac{t}{\\sqrt{t^2 + w^2}}$$"
   ]
  },
  {
   "cell_type": "code",
   "execution_count": 36,
   "metadata": {},
   "outputs": [
    {
     "name": "stdout",
     "output_type": "stream",
     "text": [
      "initial value: [0 0 1]\n",
      "--------------------\n",
      "Converged: False, root: nan\n",
      "====================\n",
      "\n",
      "\n",
      "initial value: [5 5 5]\n",
      "--------------------\n",
      "Converged: False, root: nan\n",
      "====================\n",
      "\n",
      "\n",
      "initial value: [10 20 30]\n",
      "--------------------\n",
      "Converged: True, root: [8.15688076 2.25493505 5.43678113]\n",
      "====================\n",
      "\n",
      "\n",
      "initial value: [30 20 10]\n",
      "--------------------\n",
      "Converged: True, root: [5.43678113 2.25493505 8.15688076]\n",
      "====================\n",
      "\n",
      "\n",
      "initial value: [1 2 3]\n",
      "--------------------\n",
      "Converged: True, root: [-38.85699386  -2.88761807   0.89123257]\n",
      "====================\n",
      "\n",
      "\n",
      "initial value: [1 2 3]\n",
      "--------------------\n",
      "Converged: True, root: [-38.85699386  -2.88761807   0.89123257]\n",
      "====================\n",
      "\n",
      "\n",
      "initial value: [1.e+00 1.e+10 1.e+20]\n",
      "--------------------\n",
      "Converged: True, root: [  0.89123257  -2.88761807 -38.85699386]\n",
      "====================\n",
      "\n",
      "\n",
      "initial value: [-1  2 -3]\n",
      "--------------------\n",
      "Converged: False, root: [ 1.12290012e+15  8.17013843e+15 -6.71313816e+15]\n",
      "====================\n",
      "\n",
      "\n"
     ]
    },
    {
     "name": "stderr",
     "output_type": "stream",
     "text": [
      "c:\\users\\fonsv\\appdata\\local\\programs\\python\\python37\\lib\\site-packages\\ipykernel_launcher.py:12: RuntimeWarning: invalid value encountered in true_divide\n",
      "  if sys.path[0] == '':\n",
      "c:\\users\\fonsv\\appdata\\local\\programs\\python\\python37\\lib\\site-packages\\ipykernel_launcher.py:13: RuntimeWarning: invalid value encountered in true_divide\n",
      "  del sys.path[0]\n"
     ]
    }
   ],
   "source": [
    "V = 100\n",
    "A = 150\n",
    "L = 160\n",
    "\n",
    "for initial_value in [np.array([0,0,1]),\n",
    "                      np.array([5,5,5]),\n",
    "                      np.array([10,20,30]),\n",
    "                      np.array([30,20,10]),\n",
    "                      np.array([1,2,3]),\n",
    "                      np.array([1,2,3]),\n",
    "                      np.array([1,1e10,1e20]),\n",
    "                      np.array([-1,2,-3])]:\n",
    "    print(f\"initial value: {initial_value}\")\n",
    "    print(\"-\"*20)\n",
    "    root, converged = find_root_newton_multidim(Func=lambda u: H(u, V, A, L),\n",
    "                                                Funcderiv=lambda u: Hd(u, V, A, L),\n",
    "                                                u_zero=initial_value,\n",
    "                                                verbose=False) ############################# <---\n",
    "    print(f\"Converged: {converged}, root: {root}\")\n",
    "    print(\"=\"*20)\n",
    "    print()\n",
    "    print()"
   ]
  },
  {
   "cell_type": "markdown",
   "metadata": {},
   "source": [
    "it seems like the initial value $(10, 20, 30)^T$ is giving a good result:"
   ]
  },
  {
   "cell_type": "code",
   "execution_count": 40,
   "metadata": {},
   "outputs": [
    {
     "name": "stdout",
     "output_type": "stream",
     "text": [
      "Solution: [8.15688076 2.25493505 5.43678113]\n"
     ]
    }
   ],
   "source": [
    "root, converged = find_root_newton_multidim(Func=lambda u: H(u, V, A, L),\n",
    "                                                Funcderiv=lambda u: Hd(u, V, A, L),\n",
    "                                                u_zero=np.array([10,20,30]),\n",
    "                                                verbose=False)\n",
    "print(f\"Solution: {root}\")"
   ]
  },
  {
   "cell_type": "code",
   "execution_count": null,
   "metadata": {},
   "outputs": [],
   "source": [
    "print(\"🐷\"*1000)"
   ]
  }
 ],
 "metadata": {
  "kernelspec": {
   "display_name": "Python 3",
   "language": "python",
   "name": "python3"
  },
  "language_info": {
   "codemirror_mode": {
    "name": "ipython",
    "version": 3
   },
   "file_extension": ".py",
   "mimetype": "text/x-python",
   "name": "python",
   "nbconvert_exporter": "python",
   "pygments_lexer": "ipython3",
   "version": "3.7.0"
  }
 },
 "nbformat": 4,
 "nbformat_minor": 2
}
